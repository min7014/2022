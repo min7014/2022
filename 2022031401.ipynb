{
  "nbformat": 4,
  "nbformat_minor": 0,
  "metadata": {
    "colab": {
      "name": "2022031401.ipynb",
      "provenance": [],
      "authorship_tag": "ABX9TyNl6x3gMMbx7sqrp2iPF9B7",
      "include_colab_link": true
    },
    "kernelspec": {
      "name": "python3",
      "display_name": "Python 3"
    },
    "language_info": {
      "name": "python"
    }
  },
  "cells": [
    {
      "cell_type": "markdown",
      "metadata": {
        "id": "view-in-github",
        "colab_type": "text"
      },
      "source": [
        "<a href=\"https://colab.research.google.com/github/min7014/2022/blob/main/2022031401.ipynb\" target=\"_parent\"><img src=\"https://colab.research.google.com/assets/colab-badge.svg\" alt=\"Open In Colab\"/></a>"
      ]
    },
    {
      "cell_type": "markdown",
      "source": [
        "# **밀양여자고등학교 정보부**"
      ],
      "metadata": {
        "id": "ED9Jlya6vMzh"
      }
    },
    {
      "cell_type": "markdown",
      "source": [
        " ## 컴퓨터 모델명과 생산날자"
      ],
      "metadata": {
        "id": "rUC6uhYqvcwr"
      }
    },
    {
      "cell_type": "markdown",
      "source": [
        "노트북"
      ],
      "metadata": {
        "id": "gQrff6yFvjUw"
      }
    },
    {
      "cell_type": "markdown",
      "source": [
        ""
      ],
      "metadata": {
        "id": "KuYGLR2Lv7Ig"
      }
    }
  ]
}