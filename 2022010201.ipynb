{
  "nbformat": 4,
  "nbformat_minor": 0,
  "metadata": {
    "colab": {
      "name": "2022010201.ipynb",
      "provenance": [],
      "collapsed_sections": [],
      "include_colab_link": true
    },
    "kernelspec": {
      "name": "python3",
      "display_name": "Python 3"
    }
  },
  "cells": [
    {
      "cell_type": "markdown",
      "metadata": {
        "id": "view-in-github",
        "colab_type": "text"
      },
      "source": [
        "<a href=\"https://colab.research.google.com/github/min7014/2022/blob/main/2022010201.ipynb\" target=\"_parent\"><img src=\"https://colab.research.google.com/assets/colab-badge.svg\" alt=\"Open In Colab\"/></a>"
      ]
    },
    {
      "cell_type": "markdown",
      "source": [
        "- 점 $(a,b)$가 직선 $x+2y=1 \\ (단,\\ y>0)$ 위를 움직일 때, 점 $(a+b,a-b)$의 자취의 방정식을 구하여라.\n",
        "\n",
        " 출처: 2007 개정교육과정 정석 수학(하) 연습문제 26-1"
      ],
      "metadata": {
        "id": "TRW8Uw_S4B_V"
      }
    },
    {
      "cell_type": "markdown",
      "source": [
        "- 원 $x^2+y^2=4$와 직선 $y=2x+k$가 서로 다른 두 점에서 만날 때, 두 교점의 중점의 자취의 방정식을 구하여라.\n",
        "\n",
        " 출처: 2007 개정교육과정 정석 수학(하) 연습문제 26-3"
      ],
      "metadata": {
        "id": "Vjseo3r--1g0"
      }
    },
    {
      "cell_type": "markdown",
      "source": [
        "- 평면 위에 두 점 $\\mathrm{P}(a,b)$, $\\mathrm{Q}(2a,-2b)$ (단, $a>0$, $b>0$ )가 있다. 원점을 $\\mathrm{O}$라 하고, 선분 $\\mathrm{OP}$, $\\mathrm{OQ}$를 두 변으로 하는 평행사변형의 나머지 꼭짓점을 $\\mathrm{X}(x,y)$라고 한다.\n",
        "\n",
        " - 이 도형의 넓이를 $a$, $b$로 나타내어라.\n",
        "\n",
        " -  점 $\\mathrm{P}$가 움직일 때 평행사변형의 넓이가 $4$인 점 $\\mathrm{X}$의 자취를 구하여라.\n",
        "\n",
        " 출처: 2007 개정교육과정 정석 수학(하) 연습문제 26-4"
      ],
      "metadata": {
        "id": "cqzgSKoa_Skg"
      }
    },
    {
      "cell_type": "markdown",
      "source": [
        "- 점 $\\mathrm{P}(x,y)$가 원 $x^2+y^2=1$의 내부를 움직일 때, 점 $\\mathrm{Q}(x+y,xy)$가 움직이는 영역을 구하여라.\n",
        "\n",
        " 출처: 2007 개정교육과정 정석 수학(하) 연습문제 26-4"
      ],
      "metadata": {
        "id": "42Ccl18oA2Ot"
      }
    },
    {
      "cell_type": "markdown",
      "source": [
        "- 점 $(x,y)$가 부등식 $|x|+|y| \\le 1$이 나타내는 영익을 움직일 때, 점 $(x+y,xy)$가 움직이는 영역을 그림으로 나태내어라.\n",
        "\n",
        " 출처: 2007 개정교육과정 정석 수학(하) 연습문제 26-4"
      ],
      "metadata": {
        "id": "h6lD0UkUBWkO"
      }
    }
  ]
}