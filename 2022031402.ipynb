{
  "nbformat": 4,
  "nbformat_minor": 0,
  "metadata": {
    "colab": {
      "name": "2022031402.ipynb",
      "provenance": [],
      "authorship_tag": "ABX9TyObfXSp54O+YmiK4OmKGhdV",
      "include_colab_link": true
    },
    "kernelspec": {
      "name": "python3",
      "display_name": "Python 3"
    },
    "language_info": {
      "name": "python"
    }
  },
  "cells": [
    {
      "cell_type": "markdown",
      "metadata": {
        "id": "view-in-github",
        "colab_type": "text"
      },
      "source": [
        "<a href=\"https://colab.research.google.com/github/min7014/2022/blob/main/2022031402.ipynb\" target=\"_parent\"><img src=\"https://colab.research.google.com/assets/colab-badge.svg\" alt=\"Open In Colab\"/></a>"
      ]
    },
    {
      "cell_type": "markdown",
      "source": [
        "# **밀양여자고등학교 정보부**"
      ],
      "metadata": {
        "id": "ChnJ3fSX-Dhb"
      }
    },
    {
      "cell_type": "markdown",
      "source": [
        "## 경남교육메신져 개인 주소록 만들기"
      ],
      "metadata": {
        "id": "0XjxdK5g-J0Y"
      }
    },
    {
      "cell_type": "markdown",
      "source": [
        ""
      ],
      "metadata": {
        "id": "dQsgHu7W-bCy"
      }
    }
  ]
}